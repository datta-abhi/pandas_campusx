{
 "cells": [
  {
   "cell_type": "code",
   "execution_count": 1,
   "id": "21c5c599",
   "metadata": {},
   "outputs": [],
   "source": [
    "import numpy as np\n",
    "import pandas as pd"
   ]
  },
  {
   "cell_type": "markdown",
   "id": "b32df4d1",
   "metadata": {},
   "source": [
    "## Creating a series of Marks with custom index and name from lists"
   ]
  },
  {
   "cell_type": "code",
   "execution_count": 2,
   "id": "677e8525",
   "metadata": {},
   "outputs": [
    {
     "name": "stdout",
     "output_type": "stream",
     "text": [
      "english    40\n",
      "maths      50\n",
      "physics    60\n",
      "Name: My Marks, dtype: int32\n"
     ]
    }
   ],
   "source": [
    "marks = [40,50,60]\n",
    "subjects = ['english','maths','physics']\n",
    "\n",
    "m = pd.Series(data = marks,index= subjects,name = 'My Marks',dtype = 'int32')\n",
    "print(m)"
   ]
  },
  {
   "cell_type": "markdown",
   "id": "cadcf6cf",
   "metadata": {},
   "source": [
    "## Creating Series from Dictionary"
   ]
  },
  {
   "cell_type": "code",
   "execution_count": 3,
   "id": "8e9983a0",
   "metadata": {},
   "outputs": [
    {
     "name": "stdout",
     "output_type": "stream",
     "text": [
      "{'english': 40, 'maths': 50, 'physics': 60}\n"
     ]
    }
   ],
   "source": [
    "marks_dict = dict(zip(subjects,marks))\n",
    "print(marks_dict)"
   ]
  },
  {
   "cell_type": "code",
   "execution_count": 9,
   "id": "5897bfad",
   "metadata": {},
   "outputs": [
    {
     "name": "stdout",
     "output_type": "stream",
     "text": [
      "english    40.0\n",
      "maths      50.0\n",
      "physics    60.0\n",
      "dtype: float16\n"
     ]
    }
   ],
   "source": [
    "n = pd.Series(marks_dict,dtype = 'float16')\n",
    "print(n)"
   ]
  },
  {
   "cell_type": "markdown",
   "id": "a1aac042",
   "metadata": {},
   "source": [
    "## Can Series hold heterogenous data types?"
   ]
  },
  {
   "cell_type": "code",
   "execution_count": 12,
   "id": "b4e4e259",
   "metadata": {},
   "outputs": [],
   "source": [
    "t1 = pd.Series(['foo',34,True,99.99])"
   ]
  },
  {
   "cell_type": "code",
   "execution_count": 16,
   "id": "98780c3b",
   "metadata": {},
   "outputs": [
    {
     "name": "stdout",
     "output_type": "stream",
     "text": [
      "0      foo\n",
      "1       34\n",
      "2     True\n",
      "3    99.99\n",
      "dtype: object\n"
     ]
    }
   ],
   "source": [
    "print(t1)"
   ]
  },
  {
   "cell_type": "markdown",
   "id": "82e2e87f",
   "metadata": {},
   "source": [
    "## Series Attributes"
   ]
  },
  {
   "cell_type": "code",
   "execution_count": 18,
   "id": "e700a1bc",
   "metadata": {},
   "outputs": [
    {
     "data": {
      "text/plain": [
       "3"
      ]
     },
     "execution_count": 18,
     "metadata": {},
     "output_type": "execute_result"
    }
   ],
   "source": [
    "#nos of items in the Series\n",
    "m.size"
   ]
  },
  {
   "cell_type": "code",
   "execution_count": 19,
   "id": "bfd0a41b",
   "metadata": {},
   "outputs": [
    {
     "data": {
      "text/plain": [
       "dtype('int32')"
      ]
     },
     "execution_count": 19,
     "metadata": {},
     "output_type": "execute_result"
    }
   ],
   "source": [
    "# dtype of Series\n",
    "m.dtype"
   ]
  },
  {
   "cell_type": "code",
   "execution_count": 20,
   "id": "56423c2d",
   "metadata": {},
   "outputs": [
    {
     "data": {
      "text/plain": [
       "True"
      ]
     },
     "execution_count": 20,
     "metadata": {},
     "output_type": "execute_result"
    }
   ],
   "source": [
    "# check if all items in series are uniquue\n",
    "m.is_unique"
   ]
  },
  {
   "cell_type": "code",
   "execution_count": 21,
   "id": "e70ea116",
   "metadata": {},
   "outputs": [
    {
     "data": {
      "text/plain": [
       "Index(['english', 'maths', 'physics'], dtype='object')"
      ]
     },
     "execution_count": 21,
     "metadata": {},
     "output_type": "execute_result"
    }
   ],
   "source": [
    "#get index from series\n",
    "m.index"
   ]
  },
  {
   "cell_type": "code",
   "execution_count": 22,
   "id": "5867f08c",
   "metadata": {},
   "outputs": [
    {
     "data": {
      "text/plain": [
       "array([40, 50, 60])"
      ]
     },
     "execution_count": 22,
     "metadata": {},
     "output_type": "execute_result"
    }
   ],
   "source": [
    "# get values from series\n",
    "m.values"
   ]
  },
  {
   "cell_type": "code",
   "execution_count": null,
   "id": "2648896a",
   "metadata": {},
   "outputs": [],
   "source": []
  }
 ],
 "metadata": {
  "kernelspec": {
   "display_name": "Python 3 (ipykernel)",
   "language": "python",
   "name": "python3"
  },
  "language_info": {
   "codemirror_mode": {
    "name": "ipython",
    "version": 3
   },
   "file_extension": ".py",
   "mimetype": "text/x-python",
   "name": "python",
   "nbconvert_exporter": "python",
   "pygments_lexer": "ipython3",
   "version": "3.11.4"
  }
 },
 "nbformat": 4,
 "nbformat_minor": 5
}
