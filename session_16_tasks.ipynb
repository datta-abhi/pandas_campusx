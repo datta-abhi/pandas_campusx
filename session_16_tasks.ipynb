{
 "cells": [
  {
   "cell_type": "code",
   "execution_count": 1,
   "metadata": {
    "id": "zxrbXftDYalU"
   },
   "outputs": [],
   "source": [
    "import numpy as np\n",
    "import pandas as pd"
   ]
  },
  {
   "cell_type": "markdown",
   "metadata": {
    "id": "MetYTZJpYfdz"
   },
   "source": [
    "###`Q-1:` Write a program to create an empty series."
   ]
  },
  {
   "cell_type": "code",
   "execution_count": 4,
   "metadata": {
    "id": "KUcgT935YgC5"
   },
   "outputs": [
    {
     "data": {
      "text/plain": [
       "0   NaN\n",
       "1   NaN\n",
       "2   NaN\n",
       "dtype: float64"
      ]
     },
     "execution_count": 4,
     "metadata": {},
     "output_type": "execute_result"
    }
   ],
   "source": [
    "arr1 = np.ones(3)\n",
    "arr1 = arr1*np.NaN\n",
    "pd.Series(np.array(arr1))"
   ]
  },
  {
   "cell_type": "code",
   "execution_count": 5,
   "metadata": {},
   "outputs": [
    {
     "name": "stderr",
     "output_type": "stream",
     "text": [
      "C:\\Users\\abhid\\AppData\\Local\\Temp\\ipykernel_16964\\2031691219.py:1: FutureWarning: The default dtype for empty Series will be 'object' instead of 'float64' in a future version. Specify a dtype explicitly to silence this warning.\n",
      "  pd.Series()\n"
     ]
    },
    {
     "data": {
      "text/plain": [
       "Series([], dtype: float64)"
      ]
     },
     "execution_count": 5,
     "metadata": {},
     "output_type": "execute_result"
    }
   ],
   "source": [
    "pd.Series()"
   ]
  },
  {
   "cell_type": "markdown",
   "metadata": {
    "id": "jw5ybzU6YhOo"
   },
   "source": [
    "###`Q-2:` Write a Pandas program to add, subtract, multiple and divide two Pandas Series."
   ]
  },
  {
   "cell_type": "code",
   "execution_count": 6,
   "metadata": {
    "id": "EF3GgVFjYjwG"
   },
   "outputs": [
    {
     "name": "stdout",
     "output_type": "stream",
     "text": [
      "0    11\n",
      "1    22\n",
      "2    33\n",
      "3    44\n",
      "dtype: int64\n",
      "0    -9\n",
      "1   -18\n",
      "2   -27\n",
      "3   -36\n",
      "dtype: int64\n",
      "0     10\n",
      "1     40\n",
      "2     90\n",
      "3    160\n",
      "dtype: int64\n",
      "0    0.1\n",
      "1    0.1\n",
      "2    0.1\n",
      "3    0.1\n",
      "dtype: float64\n"
     ]
    }
   ],
   "source": [
    "# code here\n",
    "a1 = pd.Series([1,2,3,4])\n",
    "b1 = pd.Series([10,20,30,40])\n",
    "\n",
    "print(a1+b1)\n",
    "print(a1-b1)\n",
    "print(a1*b1)\n",
    "print(a1/b1)"
   ]
  },
  {
   "cell_type": "markdown",
   "metadata": {
    "id": "TZDp25jeYlB6"
   },
   "source": [
    "###`Q-3` Write a Pandas program to compare the elements of the two Pandas Series.\n",
    "Sample Series: [2, 4, 6, 8, 10], [1, 3, 5, 7, 10]\n",
    "\n"
   ]
  },
  {
   "cell_type": "code",
   "execution_count": 7,
   "metadata": {
    "id": "gFNil8ruYp1y"
   },
   "outputs": [
    {
     "name": "stdout",
     "output_type": "stream",
     "text": [
      "0    False\n",
      "1    False\n",
      "2    False\n",
      "3    False\n",
      "4     True\n",
      "dtype: bool\n",
      "0     True\n",
      "1     True\n",
      "2     True\n",
      "3     True\n",
      "4    False\n",
      "dtype: bool\n",
      "0    False\n",
      "1    False\n",
      "2    False\n",
      "3    False\n",
      "4    False\n",
      "dtype: bool\n"
     ]
    }
   ],
   "source": [
    "a2 = pd.Series([2, 4, 6, 8, 10])\n",
    "\n",
    "b2 = pd.Series([1, 3, 5, 7, 10])\n",
    "\n",
    "print(a2 == b2)\n",
    "print(a2>b2)\n",
    "print(a2<b2)"
   ]
  },
  {
   "cell_type": "markdown",
   "metadata": {
    "id": "HlOBn_N6YrZz"
   },
   "source": [
    "###`Q-5.`Write a function to change the data type of given a column or a Series. Function takes series and data type as input, returns the converted series.\n",
    "```\n",
    "series = pd.Series([1,2,'Python', 2.0, True, 100])\n",
    "change to float type data\n",
    "```\n",
    "Note: Read about pd.to_numeric()"
   ]
  },
  {
   "cell_type": "code",
   "execution_count": 8,
   "metadata": {},
   "outputs": [],
   "source": [
    "def change_dtype(ser):\n",
    "    return pd.to_numeric(ser,errors='coerce')"
   ]
  },
  {
   "cell_type": "code",
   "execution_count": 9,
   "metadata": {
    "id": "_SWQJCUJYwXm"
   },
   "outputs": [
    {
     "name": "stdout",
     "output_type": "stream",
     "text": [
      "0      1.0\n",
      "1      2.0\n",
      "2      NaN\n",
      "3      2.0\n",
      "4      1.0\n",
      "5    100.0\n",
      "dtype: float64\n"
     ]
    }
   ],
   "source": [
    "series = pd.Series([1,2,'Python', 2.0, True, 100])\n",
    "series2 = change_dtype(series)\n",
    "print(series2)"
   ]
  },
  {
   "cell_type": "markdown",
   "metadata": {
    "id": "PGp3OqRIY0Va"
   },
   "source": [
    "Download data - https://drive.google.com/file/d/1LRhXwbEodeWXtzPhJCX0X9Lf_BECzvqb/view?usp=share_link\n",
    "All Batsman runs series in IPL 2008 to 2022.\n",
    "\n",
    "Below questions are based on this data."
   ]
  },
  {
   "cell_type": "code",
   "execution_count": 10,
   "metadata": {},
   "outputs": [
    {
     "data": {
      "text/html": [
       "<div>\n",
       "<style scoped>\n",
       "    .dataframe tbody tr th:only-of-type {\n",
       "        vertical-align: middle;\n",
       "    }\n",
       "\n",
       "    .dataframe tbody tr th {\n",
       "        vertical-align: top;\n",
       "    }\n",
       "\n",
       "    .dataframe thead th {\n",
       "        text-align: right;\n",
       "    }\n",
       "</style>\n",
       "<table border=\"1\" class=\"dataframe\">\n",
       "  <thead>\n",
       "    <tr style=\"text-align: right;\">\n",
       "      <th></th>\n",
       "      <th>batter</th>\n",
       "      <th>batsman_run</th>\n",
       "    </tr>\n",
       "  </thead>\n",
       "  <tbody>\n",
       "    <tr>\n",
       "      <th>0</th>\n",
       "      <td>A Ashish Reddy</td>\n",
       "      <td>280</td>\n",
       "    </tr>\n",
       "    <tr>\n",
       "      <th>1</th>\n",
       "      <td>A Badoni</td>\n",
       "      <td>161</td>\n",
       "    </tr>\n",
       "    <tr>\n",
       "      <th>2</th>\n",
       "      <td>A Chandila</td>\n",
       "      <td>4</td>\n",
       "    </tr>\n",
       "  </tbody>\n",
       "</table>\n",
       "</div>"
      ],
      "text/plain": [
       "           batter  batsman_run\n",
       "0  A Ashish Reddy          280\n",
       "1        A Badoni          161\n",
       "2      A Chandila            4"
      ]
     },
     "execution_count": 10,
     "metadata": {},
     "output_type": "execute_result"
    }
   ],
   "source": [
    "batters = pd.read_csv('batsman_runs_series.csv')\n",
    "batters.head(3)"
   ]
  },
  {
   "cell_type": "markdown",
   "metadata": {
    "id": "TxFkp-L4Y23d"
   },
   "source": [
    "###`Q-6` Find top 10 most run getter from the series."
   ]
  },
  {
   "cell_type": "code",
   "execution_count": 11,
   "metadata": {
    "id": "muBgocA6Y2Bg"
   },
   "outputs": [
    {
     "data": {
      "text/plain": [
       "569           V Kohli\n",
       "462          S Dhawan\n",
       "130         DA Warner\n",
       "430         RG Sharma\n",
       "493          SK Raina\n",
       "27     AB de Villiers\n",
       "108          CH Gayle\n",
       "339          MS Dhoni\n",
       "452        RV Uthappa\n",
       "256        KD Karthik\n",
       "Name: batter, dtype: object"
      ]
     },
     "execution_count": 11,
     "metadata": {},
     "output_type": "execute_result"
    }
   ],
   "source": [
    "# code here\n",
    "batters.sort_values(by='batsman_run',ascending= False)['batter'].head(10)"
   ]
  },
  {
   "cell_type": "markdown",
   "metadata": {
    "id": "GzlCFBM_Y83g"
   },
   "source": [
    "###`Q-7` No of players having runs above 3000"
   ]
  },
  {
   "cell_type": "code",
   "execution_count": 14,
   "metadata": {
    "id": "JdNchHRWY1B-"
   },
   "outputs": [
    {
     "data": {
      "text/plain": [
       "20"
      ]
     },
     "execution_count": 14,
     "metadata": {},
     "output_type": "execute_result"
    }
   ],
   "source": [
    "# code here\n",
    "batters[batters['batsman_run']>3000]['batter'].nunique()"
   ]
  },
  {
   "cell_type": "markdown",
   "metadata": {
    "id": "pMBEoCL1Y-vh"
   },
   "source": [
    "###`Q-8` No of players having runs above mean value?"
   ]
  },
  {
   "cell_type": "code",
   "execution_count": 15,
   "metadata": {
    "id": "LgtViVFZZBIu"
   },
   "outputs": [
    {
     "data": {
      "text/plain": [
       "128"
      ]
     },
     "execution_count": 15,
     "metadata": {},
     "output_type": "execute_result"
    }
   ],
   "source": [
    "# code here\n",
    "mean_run = batters['batsman_run'].mean()\n",
    "batters[batters['batsman_run']>mean_run]['batter'].nunique()"
   ]
  },
  {
   "cell_type": "markdown",
   "metadata": {
    "id": "OAB1CgdgZEqE"
   },
   "source": [
    "Download data - https://drive.google.com/file/d/1QZuZ5bypUInfVvarHACLAi8tXXHvb8xd/view?usp=share_link\n",
    "\n",
    "file name - items.csv\n",
    "\n"
   ]
  },
  {
   "cell_type": "markdown",
   "metadata": {
    "id": "1UTQQImxZGLu"
   },
   "source": [
    "###`Q-9`\n",
    "    i. Read `items.csv` making `item_name` as index.\n",
    "    ii. Show no of nan values\n",
    "    ii. Item price is given in $, so convert it to rupees without currency symbol.\n",
    "    iii. Make data type of newly made series as float.\n",
    "    iv. Fill nan with mean of the series\n",
    "\n",
    "\n",
    "How csv file looks\n",
    "\n",
    "```\n",
    "item_name\titem_price\n",
    "Chips and Fresh Tomato Salsa\t$2.39\n",
    "Izze\t$3.39\n",
    "Nantucket Nectar\t$3.39\n",
    "Chips and Tomatillo-Green Chili Salsa\t$2.39\n",
    "Chicken Bowl\t$16.98\n",
    "\n",
    "```"
   ]
  },
  {
   "cell_type": "code",
   "execution_count": 16,
   "metadata": {},
   "outputs": [
    {
     "data": {
      "text/plain": [
       "item_name\n",
       "Chips and Fresh Tomato Salsa              $2.39 \n",
       "Izze                                      $3.39 \n",
       "Nantucket Nectar                          $3.39 \n",
       "Chips and Tomatillo-Green Chili Salsa     $2.39 \n",
       "Chicken Bowl                             $16.98 \n",
       "Name: item_price, dtype: object"
      ]
     },
     "execution_count": 16,
     "metadata": {},
     "output_type": "execute_result"
    }
   ],
   "source": [
    "items = pd.read_csv('items.csv',index_col='item_name').squeeze()\n",
    "items.head(5)"
   ]
  },
  {
   "cell_type": "code",
   "execution_count": 17,
   "metadata": {},
   "outputs": [
    {
     "data": {
      "text/plain": [
       "(4622,)"
      ]
     },
     "execution_count": 17,
     "metadata": {},
     "output_type": "execute_result"
    }
   ],
   "source": [
    "items.shape"
   ]
  },
  {
   "cell_type": "code",
   "execution_count": 18,
   "metadata": {},
   "outputs": [
    {
     "data": {
      "text/plain": [
       "50"
      ]
     },
     "execution_count": 18,
     "metadata": {},
     "output_type": "execute_result"
    }
   ],
   "source": [
    "items.isnull().sum()"
   ]
  },
  {
   "cell_type": "code",
   "execution_count": 19,
   "metadata": {},
   "outputs": [],
   "source": [
    "def convert_rupees(x):\n",
    "    try:\n",
    "        return float(x.split('$')[1])*82.5\n",
    "    except:\n",
    "        return x"
   ]
  },
  {
   "cell_type": "code",
   "execution_count": 20,
   "metadata": {},
   "outputs": [],
   "source": [
    "items = items.apply(convert_rupees)"
   ]
  },
  {
   "cell_type": "code",
   "execution_count": 21,
   "metadata": {},
   "outputs": [
    {
     "data": {
      "text/plain": [
       "item_name\n",
       "Chicken Burrito           905.850\n",
       "Chips and Guacamole       329.175\n",
       "Veggie Burrito            928.125\n",
       "Chicken Burrito           928.125\n",
       "Chicken Burrito           721.875\n",
       "Chicken Burrito           721.875\n",
       "Canned Soft Drink         103.125\n",
       "Steak Burrito             969.375\n",
       "Chicken Soft Tacos       1443.750\n",
       "Carnitas Crispy Tacos     763.125\n",
       "Name: item_price, dtype: float64"
      ]
     },
     "execution_count": 21,
     "metadata": {},
     "output_type": "execute_result"
    }
   ],
   "source": [
    "items.sample(10)"
   ]
  },
  {
   "cell_type": "code",
   "execution_count": 22,
   "metadata": {},
   "outputs": [],
   "source": [
    "items.fillna(items.mean(),inplace= True)"
   ]
  },
  {
   "cell_type": "code",
   "execution_count": 23,
   "metadata": {},
   "outputs": [
    {
     "data": {
      "text/plain": [
       "0"
      ]
     },
     "execution_count": 23,
     "metadata": {},
     "output_type": "execute_result"
    }
   ],
   "source": [
    "items.isnull().sum()"
   ]
  },
  {
   "cell_type": "markdown",
   "metadata": {
    "id": "UHc_4e9cZK8r"
   },
   "source": [
    "###`Q-10`:\n",
    "    i. Find mean price  \n",
    "    ii. Find 30th and 6th percentile value  \n",
    "    iii. Plot Histogram on price with bin size 50  \n",
    "    iv. No of items price lies between [1000 to 2000]  \n",
    "\n"
   ]
  },
  {
   "cell_type": "code",
   "execution_count": 24,
   "metadata": {
    "id": "Eh3xX9FpZNmE"
   },
   "outputs": [
    {
     "name": "stdout",
     "output_type": "stream",
     "text": [
      "mean_price: Rs.  615.7000984251969\n"
     ]
    }
   ],
   "source": [
    "# code here\n",
    "print('mean_price: Rs. ',items.mean())"
   ]
  },
  {
   "cell_type": "code",
   "execution_count": 25,
   "metadata": {},
   "outputs": [
    {
     "name": "stdout",
     "output_type": "stream",
     "text": [
      "30th percentile: Rs.  367.125\n",
      "6th percentile: Rs.  103.125\n"
     ]
    }
   ],
   "source": [
    "print('30th percentile: Rs. ',np.percentile(items,30))\n",
    "print('6th percentile: Rs. ',np.percentile(items,6))\n"
   ]
  },
  {
   "cell_type": "code",
   "execution_count": 26,
   "metadata": {},
   "outputs": [
    {
     "data": {
      "text/plain": [
       "<Axes: ylabel='Frequency'>"
      ]
     },
     "execution_count": 26,
     "metadata": {},
     "output_type": "execute_result"
    },
    {
     "data": {
      "image/png": "[encoded data removed]",
      "text/plain": [
       "<Figure size 640x480 with 1 Axes>"
      ]
     },
     "metadata": {},
     "output_type": "display_data"
    }
   ],
   "source": [
    "items.plot(kind = 'hist',bins = 50)"
   ]
  },
  {
   "cell_type": "code",
   "execution_count": 28,
   "metadata": {},
   "outputs": [
    {
     "data": {
      "text/plain": [
       "116"
      ]
     },
     "execution_count": 28,
     "metadata": {},
     "output_type": "execute_result"
    }
   ],
   "source": [
    "items.between(1000,2000).sum()"
   ]
  },
  {
   "cell_type": "code",
   "execution_count": null,
   "metadata": {},
   "outputs": [],
   "source": []
  }
 ],
 "metadata": {
  "colab": {
   "provenance": []
  },
  "kernelspec": {
   "display_name": "Python 3 (ipykernel)",
   "language": "python",
   "name": "python3"
  },
  "language_info": {
   "codemirror_mode": {
    "name": "ipython",
    "version": 3
   },
   "file_extension": ".py",
   "mimetype": "text/x-python",
   "name": "python",
   "nbconvert_exporter": "python",
   "pygments_lexer": "ipython3",
   "version": "3.11.4"
  }
 },
 "nbformat": 4,
 "nbformat_minor": 1
}
