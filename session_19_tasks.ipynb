{
 "cells": [
  {
   "cell_type": "markdown",
   "metadata": {
    "id": "mGBzdavGOUdP"
   },
   "source": [
    "## **Questions based on Titanic Dataset:**\n",
    "\n",
    "To read the dataset as csv, use the below code:\n",
    "\n",
    "```python\n",
    "import pandas as pd\n",
    "\n",
    "url = \"https://docs.google.com/spreadsheets/d/e/2PACX-1vQjh5HzZ1N0SU7ME9ZQRzeVTaXaGsV97rU8R7eAcg53k27GTstJp9cRUOfr55go1GRRvTz1NwvyOnuh/pub?gid=1562145139&single=true&output=csv\"\n",
    "titanic_df = pd.read_csv(url)\n",
    "```"
   ]
  },
  {
   "cell_type": "code",
   "execution_count": 1,
   "metadata": {},
   "outputs": [],
   "source": [
    "import numpy as np\n",
    "import pandas as pd"
   ]
  },
  {
   "cell_type": "code",
   "execution_count": 2,
   "metadata": {},
   "outputs": [
    {
     "name": "stdout",
     "output_type": "stream",
     "text": [
      "<class 'pandas.core.frame.DataFrame'>\n",
      "RangeIndex: 891 entries, 0 to 890\n",
      "Data columns (total 12 columns):\n",
      " #   Column       Non-Null Count  Dtype  \n",
      "---  ------       --------------  -----  \n",
      " 0   PassengerId  891 non-null    int64  \n",
      " 1   Survived     891 non-null    int64  \n",
      " 2   Pclass       891 non-null    int64  \n",
      " 3   Name         891 non-null    object \n",
      " 4   Sex          891 non-null    object \n",
      " 5   Age          714 non-null    float64\n",
      " 6   SibSp        891 non-null    int64  \n",
      " 7   Parch        891 non-null    int64  \n",
      " 8   Ticket       891 non-null    object \n",
      " 9   Fare         891 non-null    float64\n",
      " 10  Cabin        204 non-null    object \n",
      " 11  Embarked     889 non-null    object \n",
      "dtypes: float64(2), int64(5), object(5)\n",
      "memory usage: 83.7+ KB\n"
     ]
    }
   ],
   "source": [
    "url = \"https://docs.google.com/spreadsheets/d/e/2PACX-1vQjh5HzZ1N0SU7ME9ZQRzeVTaXaGsV97rU8R7eAcg53k27GTstJp9cRUOfr55go1GRRvTz1NwvyOnuh/pub?gid=1562145139&single=true&output=csv\"\n",
    "titanic_df = pd.read_csv(url)\n",
    "titanic_df.info()"
   ]
  },
  {
   "cell_type": "markdown",
   "metadata": {
    "id": "HsmRWKRoOa0-"
   },
   "source": [
    "### `Q-1:` Using `groupby` make groups using the `\"Pclass\"` column and find out the average age and total number of missing values in the `\"Age\"` column for every group."
   ]
  },
  {
   "cell_type": "code",
   "execution_count": 3,
   "metadata": {
    "id": "OdPLAvd4OVS6"
   },
   "outputs": [
    {
     "data": {
      "text/plain": [
       "Pclass\n",
       "1    38.233441\n",
       "2    29.877630\n",
       "3    25.140620\n",
       "Name: Age, dtype: float64"
      ]
     },
     "execution_count": 3,
     "metadata": {},
     "output_type": "execute_result"
    }
   ],
   "source": [
    "# average age\n",
    "titanic_df.groupby('Pclass')['Age'].mean()"
   ]
  },
  {
   "cell_type": "code",
   "execution_count": 6,
   "metadata": {},
   "outputs": [
    {
     "data": {
      "text/plain": [
       "Pclass\n",
       "1     30\n",
       "2     11\n",
       "3    136\n",
       "Name: PassengerId, dtype: int64"
      ]
     },
     "execution_count": 6,
     "metadata": {},
     "output_type": "execute_result"
    }
   ],
   "source": [
    "titanic_df[titanic_df['Age'].isnull()].groupby('Pclass')['PassengerId'].count()"
   ]
  },
  {
   "cell_type": "markdown",
   "metadata": {
    "id": "CGBHGvCMOctq"
   },
   "source": [
    "### `Q-2:` Using `groupby` make groups using the `\"Pclass\"` column and fill every group's `\"Embarked\"` column's missing values with the mode value of that group. After that, print every group's `\"Embarked\"` column's value counts in ascending order."
   ]
  },
  {
   "cell_type": "code",
   "execution_count": 23,
   "metadata": {
    "id": "eOMciiM_OfPU"
   },
   "outputs": [
    {
     "data": {
      "text/plain": [
       "S    646\n",
       "C    168\n",
       "Q     77\n",
       "Name: Embarked, dtype: int64"
      ]
     },
     "execution_count": 23,
     "metadata": {},
     "output_type": "execute_result"
    }
   ],
   "source": [
    "titanic_df['Embarked'].value_counts()"
   ]
  },
  {
   "cell_type": "code",
   "execution_count": 14,
   "metadata": {},
   "outputs": [],
   "source": [
    "import scipy.stats as ss"
   ]
  },
  {
   "cell_type": "code",
   "execution_count": 18,
   "metadata": {},
   "outputs": [
    {
     "data": {
      "text/plain": [
       "{3: 'S', 1: 'S', 2: 'S'}"
      ]
     },
     "execution_count": 18,
     "metadata": {},
     "output_type": "execute_result"
    }
   ],
   "source": [
    "mode_dict = {}\n",
    "for p in titanic_df['Pclass'].unique():\n",
    "    mode_dict[p] = titanic_df[titanic_df['Pclass']==p]['Embarked'].mode()[0]\n",
    "    \n",
    "mode_dict    "
   ]
  },
  {
   "cell_type": "code",
   "execution_count": 19,
   "metadata": {},
   "outputs": [],
   "source": [
    "titanic_df['Embarked'].fillna('Missing',inplace = True)"
   ]
  },
  {
   "cell_type": "code",
   "execution_count": 22,
   "metadata": {},
   "outputs": [],
   "source": [
    "titanic_df['Embarked'] = titanic_df.apply(lambda x: mode_dict[x['Pclass']] if x['Embarked']=='Missing' else x[\"Embarked\"],axis = 1)"
   ]
  },
  {
   "cell_type": "code",
   "execution_count": null,
   "metadata": {},
   "outputs": [],
   "source": [
    "titanic_df['Embarked'].value_counts()"
   ]
  },
  {
   "cell_type": "markdown",
   "metadata": {
    "id": "3B4ieUtTOg2E"
   },
   "source": [
    "### `Q-3:` Make groups based on `\"Embarked\"` column. And for each of this embarked group, make another group based on `\"Pclass\"` and find out the average fare (round off up to 2 decimal places) for each \"Pclass\" for each group of \"Embarked\".\n",
    "\n",
    "**Sample Output:**\n",
    "\n",
    "```bash\n",
    "{'C': {1: 105, 2: 25, 3: 11},\n",
    " 'Q': {1: 90, 2: 12, 3: 11},\n",
    " 'S': {1: 70, 2: 20, 3: 15}}\n",
    "```"
   ]
  },
  {
   "cell_type": "code",
   "execution_count": 27,
   "metadata": {},
   "outputs": [],
   "source": [
    "embarked_group = titanic_df.groupby(['Embarked','Pclass'])['Fare'].mean()"
   ]
  },
  {
   "cell_type": "code",
   "execution_count": 30,
   "metadata": {
    "id": "rQvGcpCLOjEk"
   },
   "outputs": [
    {
     "data": {
      "text/plain": [
       "Embarked  Pclass\n",
       "C         1         104.718529\n",
       "          2          25.358335\n",
       "          3          11.214083\n",
       "Q         1          90.000000\n",
       "          2          12.350000\n",
       "          3          11.183393\n",
       "S         1          70.514244\n",
       "          2          20.327439\n",
       "          3          14.644083\n",
       "Name: Fare, dtype: float64"
      ]
     },
     "execution_count": 30,
     "metadata": {},
     "output_type": "execute_result"
    }
   ],
   "source": [
    "embarked_group"
   ]
  },
  {
   "cell_type": "markdown",
   "metadata": {
    "id": "iS6vHZUIOnJy"
   },
   "source": [
    "## **Questions Based on Fifa Worldcup - 2022 Dataset:**\n",
    "\n",
    "You can read the dataset by using the below sample code\n",
    "\n",
    "```python\n",
    "import pandas as pd\n",
    "\n",
    "fifa_df = pd.read_csv(\"https://docs.google.com/spreadsheets/d/e/2PACX-1vT3D_x_4DS6d51LKJ7ze1sxT5WpV5uiSVOFYHLwBiGru6vFyVv5h5-83AwFjxWYiWfCDjDAaarHAV-k/pub?gid=0&single=true&output=csv\")\n",
    "```"
   ]
  },
  {
   "cell_type": "code",
   "execution_count": 31,
   "metadata": {},
   "outputs": [
    {
     "name": "stdout",
     "output_type": "stream",
     "text": [
      "<class 'pandas.core.frame.DataFrame'>\n",
      "RangeIndex: 128 entries, 0 to 127\n",
      "Data columns (total 38 columns):\n",
      " #   Column                           Non-Null Count  Dtype \n",
      "---  ------                           --------------  ----- \n",
      " 0   Sl. No                           128 non-null    int64 \n",
      " 1   Match No.                        128 non-null    int64 \n",
      " 2   Team                             128 non-null    object\n",
      " 3   Against                          128 non-null    object\n",
      " 4   Group                            128 non-null    object\n",
      " 5   Goal                             128 non-null    int64 \n",
      " 6   Possession (%)                   128 non-null    int64 \n",
      " 7   Inside Penalty Area              128 non-null    int64 \n",
      " 8   Outside Penalty Area             128 non-null    int64 \n",
      " 9   Assists                          128 non-null    int64 \n",
      " 10  Total Attempts                   128 non-null    int64 \n",
      " 11  On Target                        128 non-null    int64 \n",
      " 12  Off Target                       128 non-null    int64 \n",
      " 13  Target in Penalty                128 non-null    int64 \n",
      " 14  Target from Outside              128 non-null    int64 \n",
      " 15  Left Channel                     128 non-null    int64 \n",
      " 16  Left Inside Channel              128 non-null    int64 \n",
      " 17  Central Channel                  128 non-null    int64 \n",
      " 18  Right Inside Channel             128 non-null    int64 \n",
      " 19  Right Channel                    128 non-null    int64 \n",
      " 20  Receptions MD                    128 non-null    int64 \n",
      " 21  Receptions D                     128 non-null    int64 \n",
      " 22  Attempted Line Breaks            128 non-null    int64 \n",
      " 23  Completed Line Breaks            128 non-null    int64 \n",
      " 24  Attempted Defensive Line Breaks  128 non-null    int64 \n",
      " 25  Completed Defensive Line Breaks  128 non-null    int64 \n",
      " 26  Yellow Cards                     128 non-null    int64 \n",
      " 27  Red Cards                        128 non-null    int64 \n",
      " 28  Fouls Against                    128 non-null    int64 \n",
      " 29  Offsides                         128 non-null    int64 \n",
      " 30  Passes                           128 non-null    int64 \n",
      " 31  Passes Completed                 128 non-null    int64 \n",
      " 32  Crosses                          128 non-null    int64 \n",
      " 33  Crosses Completed                128 non-null    int64 \n",
      " 34  Corners                          128 non-null    int64 \n",
      " 35  Free Kicks                       128 non-null    int64 \n",
      " 36  Penalties Scored                 128 non-null    int64 \n",
      " 37  Pts                              128 non-null    int64 \n",
      "dtypes: int64(35), object(3)\n",
      "memory usage: 38.1+ KB\n"
     ]
    }
   ],
   "source": [
    "fifa_df = pd.read_csv(\"https://docs.google.com/spreadsheets/d/e/2PACX-1vT3D_x_4DS6d51LKJ7ze1sxT5WpV5uiSVOFYHLwBiGru6vFyVv5h5-83AwFjxWYiWfCDjDAaarHAV-k/pub?gid=0&single=true&output=csv\")\n",
    "fifa_df.info()"
   ]
  },
  {
   "cell_type": "markdown",
   "metadata": {
    "id": "3GPZOvh5Oqhp"
   },
   "source": [
    "### `Q-4:` Perform `groupby` based on the `\"Team\"` column and then perform Z Normalization on top of the below columns of each group:\n",
    "1. Passes\n",
    "2. Passes Completed\n",
    "3. Attempted Line Breaks\n",
    "4. Completed Line Breaks\n",
    "\n",
    "You have to make a python function named `z_normalization` which takes two arguments:\n",
    "\n",
    "1. *group:* Every group that you have created\n",
    "2. *cols_to_perform:* This parameter takes a list of columns on which you have to perform the Z-Normalization.\n",
    "\n",
    "For this problem, you have to use th `apply()` method.\n",
    "\n",
    "$\\Large Z \\ - \\ Normalization = \\frac{X_i - \\mu}{std} $\n",
    "\n",
    "After that find out the below values for each group:\n",
    "- minimum \"Passess\"\n",
    "- maximum \"Passess\"\n",
    "- minimum \"Yellow Cards\"\n",
    "- maximum \"Yellow cards\"\n",
    "- average \"Yellow Cards\"\n",
    "- maximum \"Attempted Line Breaks\"\n",
    "- minimum \"Attempted Line Breaks\"\n",
    "- standardard deviation of \"Attempted Line Breaks\"\n",
    "- average Possession"
   ]
  },
  {
   "cell_type": "code",
   "execution_count": 35,
   "metadata": {
    "id": "OuGLcl3EOnxY"
   },
   "outputs": [
    {
     "name": "stderr",
     "output_type": "stream",
     "text": [
      "C:\\Users\\abhid\\AppData\\Local\\Temp\\ipykernel_17944\\1602146711.py:13: FutureWarning: Not prepending group keys to the result index of transform-like apply. In the future, the group keys will be included in the index, regardless of whether the applied function returns a like-indexed object.\n",
      "To preserve the previous behavior, use\n",
      "\n",
      "\t>>> .groupby(..., group_keys=False)\n",
      "\n",
      "To adopt the future behavior and silence this warning, use \n",
      "\n",
      "\t>>> .groupby(..., group_keys=True)\n",
      "  groups = groups.apply(z_normalization,cols_to_perform)\n"
     ]
    }
   ],
   "source": [
    "cols_to_perform = ['Passes','Passes Completed','Attempted Line Breaks','Completed Line Breaks']\n",
    "\n",
    "def z_normalization(group,cols):\n",
    "    for col in cols:\n",
    "        mu = group[col].mean()\n",
    "        std = group[col].std()\n",
    "        \n",
    "        group[f\"{col}_z_norm\"] = (group[col] - mu)/std\n",
    "     \n",
    "    return group\n",
    "\n",
    "groups = fifa_df.groupby('Team')\n",
    "groups = groups.apply(z_normalization,cols_to_perform)      "
   ]
  },
  {
   "cell_type": "code",
   "execution_count": 36,
   "metadata": {},
   "outputs": [
    {
     "data": {
      "text/html": [
       "<div>\n",
       "<style scoped>\n",
       "    .dataframe tbody tr th:only-of-type {\n",
       "        vertical-align: middle;\n",
       "    }\n",
       "\n",
       "    .dataframe tbody tr th {\n",
       "        vertical-align: top;\n",
       "    }\n",
       "\n",
       "    .dataframe thead th {\n",
       "        text-align: right;\n",
       "    }\n",
       "</style>\n",
       "<table border=\"1\" class=\"dataframe\">\n",
       "  <thead>\n",
       "    <tr style=\"text-align: right;\">\n",
       "      <th></th>\n",
       "      <th>Sl. No</th>\n",
       "      <th>Match No.</th>\n",
       "      <th>Team</th>\n",
       "      <th>Against</th>\n",
       "      <th>Group</th>\n",
       "      <th>Goal</th>\n",
       "      <th>Possession (%)</th>\n",
       "      <th>Inside Penalty Area</th>\n",
       "      <th>Outside Penalty Area</th>\n",
       "      <th>Assists</th>\n",
       "      <th>...</th>\n",
       "      <th>Crosses</th>\n",
       "      <th>Crosses Completed</th>\n",
       "      <th>Corners</th>\n",
       "      <th>Free Kicks</th>\n",
       "      <th>Penalties Scored</th>\n",
       "      <th>Pts</th>\n",
       "      <th>Passes_z_norm</th>\n",
       "      <th>Passes Completed_z_norm</th>\n",
       "      <th>Attempted Line Breaks_z_norm</th>\n",
       "      <th>Completed Line Breaks_z_norm</th>\n",
       "    </tr>\n",
       "  </thead>\n",
       "  <tbody>\n",
       "    <tr>\n",
       "      <th>0</th>\n",
       "      <td>1</td>\n",
       "      <td>1</td>\n",
       "      <td>Qatar</td>\n",
       "      <td>Ecuador</td>\n",
       "      <td>A</td>\n",
       "      <td>0</td>\n",
       "      <td>40</td>\n",
       "      <td>0</td>\n",
       "      <td>0</td>\n",
       "      <td>0</td>\n",
       "      <td>...</td>\n",
       "      <td>10</td>\n",
       "      <td>5</td>\n",
       "      <td>1</td>\n",
       "      <td>19</td>\n",
       "      <td>0</td>\n",
       "      <td>0</td>\n",
       "      <td>0.462725</td>\n",
       "      <td>0.410365</td>\n",
       "      <td>-0.815368</td>\n",
       "      <td>-1.153113</td>\n",
       "    </tr>\n",
       "    <tr>\n",
       "      <th>1</th>\n",
       "      <td>2</td>\n",
       "      <td>1</td>\n",
       "      <td>Ecuador</td>\n",
       "      <td>Qatar</td>\n",
       "      <td>A</td>\n",
       "      <td>2</td>\n",
       "      <td>46</td>\n",
       "      <td>2</td>\n",
       "      <td>0</td>\n",
       "      <td>1</td>\n",
       "      <td>...</td>\n",
       "      <td>26</td>\n",
       "      <td>10</td>\n",
       "      <td>3</td>\n",
       "      <td>17</td>\n",
       "      <td>1</td>\n",
       "      <td>3</td>\n",
       "      <td>1.085876</td>\n",
       "      <td>1.123095</td>\n",
       "      <td>-0.039193</td>\n",
       "      <td>0.817624</td>\n",
       "    </tr>\n",
       "    <tr>\n",
       "      <th>2</th>\n",
       "      <td>3</td>\n",
       "      <td>2</td>\n",
       "      <td>England</td>\n",
       "      <td>Iran</td>\n",
       "      <td>B</td>\n",
       "      <td>6</td>\n",
       "      <td>69</td>\n",
       "      <td>6</td>\n",
       "      <td>0</td>\n",
       "      <td>6</td>\n",
       "      <td>...</td>\n",
       "      <td>29</td>\n",
       "      <td>9</td>\n",
       "      <td>8</td>\n",
       "      <td>16</td>\n",
       "      <td>0</td>\n",
       "      <td>3</td>\n",
       "      <td>1.705844</td>\n",
       "      <td>1.718012</td>\n",
       "      <td>-1.172641</td>\n",
       "      <td>-1.334904</td>\n",
       "    </tr>\n",
       "    <tr>\n",
       "      <th>3</th>\n",
       "      <td>4</td>\n",
       "      <td>2</td>\n",
       "      <td>Iran</td>\n",
       "      <td>England</td>\n",
       "      <td>B</td>\n",
       "      <td>2</td>\n",
       "      <td>20</td>\n",
       "      <td>2</td>\n",
       "      <td>0</td>\n",
       "      <td>1</td>\n",
       "      <td>...</td>\n",
       "      <td>11</td>\n",
       "      <td>3</td>\n",
       "      <td>0</td>\n",
       "      <td>10</td>\n",
       "      <td>1</td>\n",
       "      <td>0</td>\n",
       "      <td>-0.820695</td>\n",
       "      <td>-0.761575</td>\n",
       "      <td>-1.152297</td>\n",
       "      <td>-1.147648</td>\n",
       "    </tr>\n",
       "    <tr>\n",
       "      <th>4</th>\n",
       "      <td>5</td>\n",
       "      <td>3</td>\n",
       "      <td>Senegal</td>\n",
       "      <td>Netherlands</td>\n",
       "      <td>A</td>\n",
       "      <td>0</td>\n",
       "      <td>39</td>\n",
       "      <td>0</td>\n",
       "      <td>0</td>\n",
       "      <td>0</td>\n",
       "      <td>...</td>\n",
       "      <td>22</td>\n",
       "      <td>8</td>\n",
       "      <td>6</td>\n",
       "      <td>14</td>\n",
       "      <td>0</td>\n",
       "      <td>0</td>\n",
       "      <td>-0.020934</td>\n",
       "      <td>0.032483</td>\n",
       "      <td>-1.077420</td>\n",
       "      <td>-0.355371</td>\n",
       "    </tr>\n",
       "    <tr>\n",
       "      <th>...</th>\n",
       "      <td>...</td>\n",
       "      <td>...</td>\n",
       "      <td>...</td>\n",
       "      <td>...</td>\n",
       "      <td>...</td>\n",
       "      <td>...</td>\n",
       "      <td>...</td>\n",
       "      <td>...</td>\n",
       "      <td>...</td>\n",
       "      <td>...</td>\n",
       "      <td>...</td>\n",
       "      <td>...</td>\n",
       "      <td>...</td>\n",
       "      <td>...</td>\n",
       "      <td>...</td>\n",
       "      <td>...</td>\n",
       "      <td>...</td>\n",
       "      <td>...</td>\n",
       "      <td>...</td>\n",
       "      <td>...</td>\n",
       "      <td>...</td>\n",
       "    </tr>\n",
       "    <tr>\n",
       "      <th>123</th>\n",
       "      <td>124</td>\n",
       "      <td>62</td>\n",
       "      <td>Morocco</td>\n",
       "      <td>Fram</td>\n",
       "      <td>F</td>\n",
       "      <td>0</td>\n",
       "      <td>55</td>\n",
       "      <td>0</td>\n",
       "      <td>0</td>\n",
       "      <td>0</td>\n",
       "      <td>...</td>\n",
       "      <td>22</td>\n",
       "      <td>1</td>\n",
       "      <td>3</td>\n",
       "      <td>15</td>\n",
       "      <td>0</td>\n",
       "      <td>0</td>\n",
       "      <td>1.662218</td>\n",
       "      <td>1.680153</td>\n",
       "      <td>-0.496715</td>\n",
       "      <td>0.899236</td>\n",
       "    </tr>\n",
       "    <tr>\n",
       "      <th>124</th>\n",
       "      <td>125</td>\n",
       "      <td>63</td>\n",
       "      <td>Croatia</td>\n",
       "      <td>Morocco</td>\n",
       "      <td>F</td>\n",
       "      <td>2</td>\n",
       "      <td>45</td>\n",
       "      <td>2</td>\n",
       "      <td>0</td>\n",
       "      <td>2</td>\n",
       "      <td>...</td>\n",
       "      <td>21</td>\n",
       "      <td>3</td>\n",
       "      <td>6</td>\n",
       "      <td>13</td>\n",
       "      <td>0</td>\n",
       "      <td>3</td>\n",
       "      <td>-1.152198</td>\n",
       "      <td>-1.103970</td>\n",
       "      <td>-0.555702</td>\n",
       "      <td>-0.464907</td>\n",
       "    </tr>\n",
       "    <tr>\n",
       "      <th>125</th>\n",
       "      <td>126</td>\n",
       "      <td>63</td>\n",
       "      <td>Morocco</td>\n",
       "      <td>Croatia</td>\n",
       "      <td>F</td>\n",
       "      <td>1</td>\n",
       "      <td>45</td>\n",
       "      <td>1</td>\n",
       "      <td>0</td>\n",
       "      <td>0</td>\n",
       "      <td>...</td>\n",
       "      <td>20</td>\n",
       "      <td>5</td>\n",
       "      <td>3</td>\n",
       "      <td>15</td>\n",
       "      <td>0</td>\n",
       "      <td>0</td>\n",
       "      <td>0.896270</td>\n",
       "      <td>0.909216</td>\n",
       "      <td>0.349043</td>\n",
       "      <td>1.079083</td>\n",
       "    </tr>\n",
       "    <tr>\n",
       "      <th>126</th>\n",
       "      <td>127</td>\n",
       "      <td>64</td>\n",
       "      <td>Argentina</td>\n",
       "      <td>France</td>\n",
       "      <td>C</td>\n",
       "      <td>3</td>\n",
       "      <td>46</td>\n",
       "      <td>3</td>\n",
       "      <td>0</td>\n",
       "      <td>1</td>\n",
       "      <td>...</td>\n",
       "      <td>20</td>\n",
       "      <td>4</td>\n",
       "      <td>6</td>\n",
       "      <td>22</td>\n",
       "      <td>5</td>\n",
       "      <td>3</td>\n",
       "      <td>0.178979</td>\n",
       "      <td>-0.028264</td>\n",
       "      <td>1.757406</td>\n",
       "      <td>1.808140</td>\n",
       "    </tr>\n",
       "    <tr>\n",
       "      <th>127</th>\n",
       "      <td>128</td>\n",
       "      <td>64</td>\n",
       "      <td>France</td>\n",
       "      <td>Argentina</td>\n",
       "      <td>D</td>\n",
       "      <td>3</td>\n",
       "      <td>40</td>\n",
       "      <td>3</td>\n",
       "      <td>0</td>\n",
       "      <td>1</td>\n",
       "      <td>...</td>\n",
       "      <td>24</td>\n",
       "      <td>3</td>\n",
       "      <td>5</td>\n",
       "      <td>28</td>\n",
       "      <td>4</td>\n",
       "      <td>0</td>\n",
       "      <td>-0.046643</td>\n",
       "      <td>-0.280190</td>\n",
       "      <td>1.147789</td>\n",
       "      <td>0.169997</td>\n",
       "    </tr>\n",
       "  </tbody>\n",
       "</table>\n",
       "<p>128 rows × 42 columns</p>\n",
       "</div>"
      ],
      "text/plain": [
       "     Sl. No  Match No.       Team      Against Group  Goal  Possession (%)  \\\n",
       "0         1          1      Qatar      Ecuador     A     0              40   \n",
       "1         2          1    Ecuador        Qatar     A     2              46   \n",
       "2         3          2    England         Iran     B     6              69   \n",
       "3         4          2       Iran      England     B     2              20   \n",
       "4         5          3    Senegal  Netherlands     A     0              39   \n",
       "..      ...        ...        ...          ...   ...   ...             ...   \n",
       "123     124         62    Morocco         Fram     F     0              55   \n",
       "124     125         63    Croatia      Morocco     F     2              45   \n",
       "125     126         63    Morocco      Croatia     F     1              45   \n",
       "126     127         64  Argentina       France     C     3              46   \n",
       "127     128         64     France    Argentina     D     3              40   \n",
       "\n",
       "     Inside Penalty Area  Outside Penalty Area  Assists  ...  Crosses  \\\n",
       "0                      0                     0        0  ...       10   \n",
       "1                      2                     0        1  ...       26   \n",
       "2                      6                     0        6  ...       29   \n",
       "3                      2                     0        1  ...       11   \n",
       "4                      0                     0        0  ...       22   \n",
       "..                   ...                   ...      ...  ...      ...   \n",
       "123                    0                     0        0  ...       22   \n",
       "124                    2                     0        2  ...       21   \n",
       "125                    1                     0        0  ...       20   \n",
       "126                    3                     0        1  ...       20   \n",
       "127                    3                     0        1  ...       24   \n",
       "\n",
       "     Crosses Completed  Corners  Free Kicks  Penalties Scored  Pts  \\\n",
       "0                    5        1          19                 0    0   \n",
       "1                   10        3          17                 1    3   \n",
       "2                    9        8          16                 0    3   \n",
       "3                    3        0          10                 1    0   \n",
       "4                    8        6          14                 0    0   \n",
       "..                 ...      ...         ...               ...  ...   \n",
       "123                  1        3          15                 0    0   \n",
       "124                  3        6          13                 0    3   \n",
       "125                  5        3          15                 0    0   \n",
       "126                  4        6          22                 5    3   \n",
       "127                  3        5          28                 4    0   \n",
       "\n",
       "     Passes_z_norm  Passes Completed_z_norm  Attempted Line Breaks_z_norm  \\\n",
       "0         0.462725                 0.410365                     -0.815368   \n",
       "1         1.085876                 1.123095                     -0.039193   \n",
       "2         1.705844                 1.718012                     -1.172641   \n",
       "3        -0.820695                -0.761575                     -1.152297   \n",
       "4        -0.020934                 0.032483                     -1.077420   \n",
       "..             ...                      ...                           ...   \n",
       "123       1.662218                 1.680153                     -0.496715   \n",
       "124      -1.152198                -1.103970                     -0.555702   \n",
       "125       0.896270                 0.909216                      0.349043   \n",
       "126       0.178979                -0.028264                      1.757406   \n",
       "127      -0.046643                -0.280190                      1.147789   \n",
       "\n",
       "     Completed Line Breaks_z_norm  \n",
       "0                       -1.153113  \n",
       "1                        0.817624  \n",
       "2                       -1.334904  \n",
       "3                       -1.147648  \n",
       "4                       -0.355371  \n",
       "..                            ...  \n",
       "123                      0.899236  \n",
       "124                     -0.464907  \n",
       "125                      1.079083  \n",
       "126                      1.808140  \n",
       "127                      0.169997  \n",
       "\n",
       "[128 rows x 42 columns]"
      ]
     },
     "execution_count": 36,
     "metadata": {},
     "output_type": "execute_result"
    }
   ],
   "source": [
    "groups"
   ]
  },
  {
   "cell_type": "markdown",
   "metadata": {
    "id": "RPjqA-OtOxDD"
   },
   "source": [
    "## **Questions on IPL wala dataset**\n",
    "\n",
    "ball by ball dataset - https://drive.google.com/file/d/1-kvv_9KCSAFWcrhS9WgTxSrURkRh6GNt/view?usp=share_link\n",
    "\n",
    "\n",
    "\n"
   ]
  },
  {
   "cell_type": "code",
   "execution_count": 37,
   "metadata": {
    "id": "nwa-adpMOxl4"
   },
   "outputs": [
    {
     "name": "stdout",
     "output_type": "stream",
     "text": [
      "<class 'pandas.core.frame.DataFrame'>\n",
      "RangeIndex: 225954 entries, 0 to 225953\n",
      "Data columns (total 19 columns):\n",
      " #   Column             Non-Null Count   Dtype \n",
      "---  ------             --------------   ----- \n",
      " 0   ID                 225954 non-null  int64 \n",
      " 1   Team               225954 non-null  object\n",
      " 2   innings            225954 non-null  int64 \n",
      " 3   overs              225954 non-null  int64 \n",
      " 4   ballnumber         225954 non-null  int64 \n",
      " 5   batter             225954 non-null  object\n",
      " 6   bowler             225954 non-null  object\n",
      " 7   non-striker        225954 non-null  object\n",
      " 8   extra_type         12049 non-null   object\n",
      " 9   batsman_run        225954 non-null  int64 \n",
      " 10  extras_run         225954 non-null  int64 \n",
      " 11  total_run          225954 non-null  int64 \n",
      " 12  non_boundary       225954 non-null  int64 \n",
      " 13  isWicketDelivery   225954 non-null  int64 \n",
      " 14  player_out         11151 non-null   object\n",
      " 15  kind               11151 non-null   object\n",
      " 16  fielders_involved  7988 non-null    object\n",
      " 17  BattingTeam        225954 non-null  object\n",
      " 18  BowlingTeam        225954 non-null  object\n",
      "dtypes: int64(9), object(10)\n",
      "memory usage: 32.8+ MB\n"
     ]
    }
   ],
   "source": [
    "ipl_balls = pd.read_csv('ipl_deliveries.csv')\n",
    "ipl_balls.info()"
   ]
  },
  {
   "cell_type": "code",
   "execution_count": 38,
   "metadata": {},
   "outputs": [
    {
     "data": {
      "text/html": [
       "<div>\n",
       "<style scoped>\n",
       "    .dataframe tbody tr th:only-of-type {\n",
       "        vertical-align: middle;\n",
       "    }\n",
       "\n",
       "    .dataframe tbody tr th {\n",
       "        vertical-align: top;\n",
       "    }\n",
       "\n",
       "    .dataframe thead th {\n",
       "        text-align: right;\n",
       "    }\n",
       "</style>\n",
       "<table border=\"1\" class=\"dataframe\">\n",
       "  <thead>\n",
       "    <tr style=\"text-align: right;\">\n",
       "      <th></th>\n",
       "      <th>ID</th>\n",
       "      <th>Team</th>\n",
       "      <th>innings</th>\n",
       "      <th>overs</th>\n",
       "      <th>ballnumber</th>\n",
       "      <th>batter</th>\n",
       "      <th>bowler</th>\n",
       "      <th>non-striker</th>\n",
       "      <th>extra_type</th>\n",
       "      <th>batsman_run</th>\n",
       "      <th>extras_run</th>\n",
       "      <th>total_run</th>\n",
       "      <th>non_boundary</th>\n",
       "      <th>isWicketDelivery</th>\n",
       "      <th>player_out</th>\n",
       "      <th>kind</th>\n",
       "      <th>fielders_involved</th>\n",
       "      <th>BattingTeam</th>\n",
       "      <th>BowlingTeam</th>\n",
       "    </tr>\n",
       "  </thead>\n",
       "  <tbody>\n",
       "    <tr>\n",
       "      <th>0</th>\n",
       "      <td>1312200</td>\n",
       "      <td>Rajasthan RoyalsGujarat Titans</td>\n",
       "      <td>1</td>\n",
       "      <td>0</td>\n",
       "      <td>1</td>\n",
       "      <td>YBK Jaiswal</td>\n",
       "      <td>Mohammed Shami</td>\n",
       "      <td>JC Buttler</td>\n",
       "      <td>NaN</td>\n",
       "      <td>0</td>\n",
       "      <td>0</td>\n",
       "      <td>0</td>\n",
       "      <td>0</td>\n",
       "      <td>0</td>\n",
       "      <td>NaN</td>\n",
       "      <td>NaN</td>\n",
       "      <td>NaN</td>\n",
       "      <td>Rajasthan Royals</td>\n",
       "      <td>Gujarat Titans</td>\n",
       "    </tr>\n",
       "    <tr>\n",
       "      <th>1</th>\n",
       "      <td>1312200</td>\n",
       "      <td>Rajasthan RoyalsGujarat Titans</td>\n",
       "      <td>1</td>\n",
       "      <td>0</td>\n",
       "      <td>2</td>\n",
       "      <td>YBK Jaiswal</td>\n",
       "      <td>Mohammed Shami</td>\n",
       "      <td>JC Buttler</td>\n",
       "      <td>legbyes</td>\n",
       "      <td>0</td>\n",
       "      <td>1</td>\n",
       "      <td>1</td>\n",
       "      <td>0</td>\n",
       "      <td>0</td>\n",
       "      <td>NaN</td>\n",
       "      <td>NaN</td>\n",
       "      <td>NaN</td>\n",
       "      <td>Rajasthan Royals</td>\n",
       "      <td>Gujarat Titans</td>\n",
       "    </tr>\n",
       "  </tbody>\n",
       "</table>\n",
       "</div>"
      ],
      "text/plain": [
       "        ID                            Team  innings  overs  ballnumber  \\\n",
       "0  1312200  Rajasthan RoyalsGujarat Titans        1      0           1   \n",
       "1  1312200  Rajasthan RoyalsGujarat Titans        1      0           2   \n",
       "\n",
       "        batter          bowler non-striker extra_type  batsman_run  \\\n",
       "0  YBK Jaiswal  Mohammed Shami  JC Buttler        NaN            0   \n",
       "1  YBK Jaiswal  Mohammed Shami  JC Buttler    legbyes            0   \n",
       "\n",
       "   extras_run  total_run  non_boundary  isWicketDelivery player_out kind  \\\n",
       "0           0          0             0                 0        NaN  NaN   \n",
       "1           1          1             0                 0        NaN  NaN   \n",
       "\n",
       "  fielders_involved       BattingTeam     BowlingTeam  \n",
       "0               NaN  Rajasthan Royals  Gujarat Titans  \n",
       "1               NaN  Rajasthan Royals  Gujarat Titans  "
      ]
     },
     "execution_count": 38,
     "metadata": {},
     "output_type": "execute_result"
    }
   ],
   "source": [
    "ipl_balls.head(2)"
   ]
  },
  {
   "cell_type": "markdown",
   "metadata": {
    "id": "IeQpV8A2O0IR"
   },
   "source": [
    "###`Q-5:` Find batsman in below category-\n",
    "* Highest score while chasing\n",
    "* Best Strike rate while chasing and have faced 100+ balls\n",
    "\n",
    "\n",
    "> Chasing mean team batting in second inning"
   ]
  },
  {
   "cell_type": "code",
   "execution_count": 88,
   "metadata": {},
   "outputs": [
    {
     "data": {
      "text/plain": [
       "ID       batter           \n",
       "501206   PC Valthaty          120\n",
       "501243   V Sehwag             119\n",
       "1254061  SV Samson            119\n",
       "1136620  SR Watson            117\n",
       "336018   ST Jayasuriya        114\n",
       "                             ... \n",
       "598066   KD Karthik             0\n",
       "598067   M Morkel               0\n",
       "598068   SK Raina               0\n",
       "1178429  Washington Sundar      0\n",
       "1082646  MN Samuels             0\n",
       "Name: batsman_run, Length: 6972, dtype: int64"
      ]
     },
     "execution_count": 88,
     "metadata": {},
     "output_type": "execute_result"
    }
   ],
   "source": [
    "ipl_second = ipl_balls[ipl_balls['innings']==2]\n",
    "ipl_second.groupby(['ID','batter'])['batsman_run'].sum().sort_values(ascending = False)"
   ]
  },
  {
   "cell_type": "code",
   "execution_count": null,
   "metadata": {},
   "outputs": [],
   "source": []
  },
  {
   "cell_type": "markdown",
   "metadata": {
    "id": "Wr443WT0O2Qw"
   },
   "source": [
    "###`Q-6` Most Successful bowler against any batsman. Find that pair of bowler and batsman.\n",
    "> Most Successful in terms of dissmissal. A bowler who have dissmissed any batsman most no of times. If any two pairs have same no of dissmisal, consider runs conceded by bowler to that batsman. Those who have concede lesser runs is more successful."
   ]
  },
  {
   "cell_type": "code",
   "execution_count": 41,
   "metadata": {},
   "outputs": [
    {
     "data": {
      "text/plain": [
       "array([nan, 'caught', 'caught and bowled', 'run out', 'bowled', 'stumped',\n",
       "       'lbw', 'hit wicket', 'retired hurt', 'retired out',\n",
       "       'obstructing the field'], dtype=object)"
      ]
     },
     "execution_count": 41,
     "metadata": {},
     "output_type": "execute_result"
    }
   ],
   "source": [
    "ipl_balls['kind'].unique()"
   ]
  },
  {
   "cell_type": "code",
   "execution_count": null,
   "metadata": {},
   "outputs": [],
   "source": []
  },
  {
   "cell_type": "code",
   "execution_count": 57,
   "metadata": {
    "id": "oG1P4PT8O4u4"
   },
   "outputs": [
    {
     "data": {
      "text/html": [
       "<div>\n",
       "<style scoped>\n",
       "    .dataframe tbody tr th:only-of-type {\n",
       "        vertical-align: middle;\n",
       "    }\n",
       "\n",
       "    .dataframe tbody tr th {\n",
       "        vertical-align: top;\n",
       "    }\n",
       "\n",
       "    .dataframe thead th {\n",
       "        text-align: right;\n",
       "    }\n",
       "</style>\n",
       "<table border=\"1\" class=\"dataframe\">\n",
       "  <thead>\n",
       "    <tr style=\"text-align: right;\">\n",
       "      <th></th>\n",
       "      <th></th>\n",
       "      <th>isbatterout</th>\n",
       "      <th>batsman_run</th>\n",
       "    </tr>\n",
       "    <tr>\n",
       "      <th>bowler</th>\n",
       "      <th>batter</th>\n",
       "      <th></th>\n",
       "      <th></th>\n",
       "    </tr>\n",
       "  </thead>\n",
       "  <tbody>\n",
       "    <tr>\n",
       "      <th>Z Khan</th>\n",
       "      <th>MS Dhoni</th>\n",
       "      <td>7</td>\n",
       "      <td>74</td>\n",
       "    </tr>\n",
       "  </tbody>\n",
       "</table>\n",
       "</div>"
      ],
      "text/plain": [
       "                 isbatterout  batsman_run\n",
       "bowler batter                            \n",
       "Z Khan MS Dhoni            7           74"
      ]
     },
     "execution_count": 57,
     "metadata": {},
     "output_type": "execute_result"
    }
   ],
   "source": [
    "ipl_balls['isbatterout'] = ipl_balls['kind'].isin(['caught', 'caught and bowled',  'bowled', 'stumped','lbw'])\n",
    "ipl_balls.groupby(['bowler','batter']).agg({'isbatterout':'sum',\n",
    "                                           'batsman_run':'sum'}).sort_values(\n",
    "                                            by = ['isbatterout','batsman_run'],ascending = [False,True]).head(1)"
   ]
  },
  {
   "cell_type": "markdown",
   "metadata": {
    "id": "7BP2EDkNO6KM"
   },
   "source": [
    "###`Q-7`: Most successful batting pair in IPL. Batting pair who have scored most runs playing together.\n"
   ]
  },
  {
   "cell_type": "code",
   "execution_count": 71,
   "metadata": {
    "scrolled": true
   },
   "outputs": [
    {
     "data": {
      "text/plain": [
       "array([['YBK Jaiswal', 'JC Buttler'],\n",
       "       ['YBK Jaiswal', 'JC Buttler'],\n",
       "       ['JC Buttler', 'YBK Jaiswal'],\n",
       "       ...,\n",
       "       ['P Kumar', 'SB Joshi'],\n",
       "       ['SB Joshi', 'P Kumar'],\n",
       "       ['SB Joshi', 'P Kumar']], dtype=object)"
      ]
     },
     "execution_count": 71,
     "metadata": {},
     "output_type": "execute_result"
    }
   ],
   "source": [
    "ipl_balls[['batter','non-striker']].values"
   ]
  },
  {
   "cell_type": "code",
   "execution_count": 72,
   "metadata": {
    "scrolled": true
   },
   "outputs": [
    {
     "data": {
      "text/html": [
       "<div>\n",
       "<style scoped>\n",
       "    .dataframe tbody tr th:only-of-type {\n",
       "        vertical-align: middle;\n",
       "    }\n",
       "\n",
       "    .dataframe tbody tr th {\n",
       "        vertical-align: top;\n",
       "    }\n",
       "\n",
       "    .dataframe thead th {\n",
       "        text-align: right;\n",
       "    }\n",
       "</style>\n",
       "<table border=\"1\" class=\"dataframe\">\n",
       "  <thead>\n",
       "    <tr style=\"text-align: right;\">\n",
       "      <th></th>\n",
       "      <th>ID</th>\n",
       "      <th>Team</th>\n",
       "      <th>innings</th>\n",
       "      <th>overs</th>\n",
       "      <th>ballnumber</th>\n",
       "      <th>batter</th>\n",
       "      <th>bowler</th>\n",
       "      <th>non-striker</th>\n",
       "      <th>extra_type</th>\n",
       "      <th>batsman_run</th>\n",
       "      <th>...</th>\n",
       "      <th>total_run</th>\n",
       "      <th>non_boundary</th>\n",
       "      <th>isWicketDelivery</th>\n",
       "      <th>player_out</th>\n",
       "      <th>kind</th>\n",
       "      <th>fielders_involved</th>\n",
       "      <th>BattingTeam</th>\n",
       "      <th>BowlingTeam</th>\n",
       "      <th>isbatterout</th>\n",
       "      <th>partnership</th>\n",
       "    </tr>\n",
       "  </thead>\n",
       "  <tbody>\n",
       "    <tr>\n",
       "      <th>0</th>\n",
       "      <td>1312200</td>\n",
       "      <td>Rajasthan RoyalsGujarat Titans</td>\n",
       "      <td>1</td>\n",
       "      <td>0</td>\n",
       "      <td>1</td>\n",
       "      <td>YBK Jaiswal</td>\n",
       "      <td>Mohammed Shami</td>\n",
       "      <td>JC Buttler</td>\n",
       "      <td>NaN</td>\n",
       "      <td>0</td>\n",
       "      <td>...</td>\n",
       "      <td>0</td>\n",
       "      <td>0</td>\n",
       "      <td>0</td>\n",
       "      <td>NaN</td>\n",
       "      <td>NaN</td>\n",
       "      <td>NaN</td>\n",
       "      <td>Rajasthan Royals</td>\n",
       "      <td>Gujarat Titans</td>\n",
       "      <td>False</td>\n",
       "      <td>JC Buttler-YBK Jaiswal</td>\n",
       "    </tr>\n",
       "    <tr>\n",
       "      <th>1</th>\n",
       "      <td>1312200</td>\n",
       "      <td>Rajasthan RoyalsGujarat Titans</td>\n",
       "      <td>1</td>\n",
       "      <td>0</td>\n",
       "      <td>2</td>\n",
       "      <td>YBK Jaiswal</td>\n",
       "      <td>Mohammed Shami</td>\n",
       "      <td>JC Buttler</td>\n",
       "      <td>legbyes</td>\n",
       "      <td>0</td>\n",
       "      <td>...</td>\n",
       "      <td>1</td>\n",
       "      <td>0</td>\n",
       "      <td>0</td>\n",
       "      <td>NaN</td>\n",
       "      <td>NaN</td>\n",
       "      <td>NaN</td>\n",
       "      <td>Rajasthan Royals</td>\n",
       "      <td>Gujarat Titans</td>\n",
       "      <td>False</td>\n",
       "      <td>JC Buttler-YBK Jaiswal</td>\n",
       "    </tr>\n",
       "    <tr>\n",
       "      <th>2</th>\n",
       "      <td>1312200</td>\n",
       "      <td>Rajasthan RoyalsGujarat Titans</td>\n",
       "      <td>1</td>\n",
       "      <td>0</td>\n",
       "      <td>3</td>\n",
       "      <td>JC Buttler</td>\n",
       "      <td>Mohammed Shami</td>\n",
       "      <td>YBK Jaiswal</td>\n",
       "      <td>NaN</td>\n",
       "      <td>1</td>\n",
       "      <td>...</td>\n",
       "      <td>1</td>\n",
       "      <td>0</td>\n",
       "      <td>0</td>\n",
       "      <td>NaN</td>\n",
       "      <td>NaN</td>\n",
       "      <td>NaN</td>\n",
       "      <td>Rajasthan Royals</td>\n",
       "      <td>Gujarat Titans</td>\n",
       "      <td>False</td>\n",
       "      <td>JC Buttler-YBK Jaiswal</td>\n",
       "    </tr>\n",
       "    <tr>\n",
       "      <th>3</th>\n",
       "      <td>1312200</td>\n",
       "      <td>Rajasthan RoyalsGujarat Titans</td>\n",
       "      <td>1</td>\n",
       "      <td>0</td>\n",
       "      <td>4</td>\n",
       "      <td>YBK Jaiswal</td>\n",
       "      <td>Mohammed Shami</td>\n",
       "      <td>JC Buttler</td>\n",
       "      <td>NaN</td>\n",
       "      <td>0</td>\n",
       "      <td>...</td>\n",
       "      <td>0</td>\n",
       "      <td>0</td>\n",
       "      <td>0</td>\n",
       "      <td>NaN</td>\n",
       "      <td>NaN</td>\n",
       "      <td>NaN</td>\n",
       "      <td>Rajasthan Royals</td>\n",
       "      <td>Gujarat Titans</td>\n",
       "      <td>False</td>\n",
       "      <td>JC Buttler-YBK Jaiswal</td>\n",
       "    </tr>\n",
       "    <tr>\n",
       "      <th>4</th>\n",
       "      <td>1312200</td>\n",
       "      <td>Rajasthan RoyalsGujarat Titans</td>\n",
       "      <td>1</td>\n",
       "      <td>0</td>\n",
       "      <td>5</td>\n",
       "      <td>YBK Jaiswal</td>\n",
       "      <td>Mohammed Shami</td>\n",
       "      <td>JC Buttler</td>\n",
       "      <td>NaN</td>\n",
       "      <td>0</td>\n",
       "      <td>...</td>\n",
       "      <td>0</td>\n",
       "      <td>0</td>\n",
       "      <td>0</td>\n",
       "      <td>NaN</td>\n",
       "      <td>NaN</td>\n",
       "      <td>NaN</td>\n",
       "      <td>Rajasthan Royals</td>\n",
       "      <td>Gujarat Titans</td>\n",
       "      <td>False</td>\n",
       "      <td>JC Buttler-YBK Jaiswal</td>\n",
       "    </tr>\n",
       "  </tbody>\n",
       "</table>\n",
       "<p>5 rows × 21 columns</p>\n",
       "</div>"
      ],
      "text/plain": [
       "        ID                            Team  innings  overs  ballnumber  \\\n",
       "0  1312200  Rajasthan RoyalsGujarat Titans        1      0           1   \n",
       "1  1312200  Rajasthan RoyalsGujarat Titans        1      0           2   \n",
       "2  1312200  Rajasthan RoyalsGujarat Titans        1      0           3   \n",
       "3  1312200  Rajasthan RoyalsGujarat Titans        1      0           4   \n",
       "4  1312200  Rajasthan RoyalsGujarat Titans        1      0           5   \n",
       "\n",
       "        batter          bowler  non-striker extra_type  batsman_run  ...  \\\n",
       "0  YBK Jaiswal  Mohammed Shami   JC Buttler        NaN            0  ...   \n",
       "1  YBK Jaiswal  Mohammed Shami   JC Buttler    legbyes            0  ...   \n",
       "2   JC Buttler  Mohammed Shami  YBK Jaiswal        NaN            1  ...   \n",
       "3  YBK Jaiswal  Mohammed Shami   JC Buttler        NaN            0  ...   \n",
       "4  YBK Jaiswal  Mohammed Shami   JC Buttler        NaN            0  ...   \n",
       "\n",
       "   total_run  non_boundary  isWicketDelivery  player_out kind  \\\n",
       "0          0             0                 0         NaN  NaN   \n",
       "1          1             0                 0         NaN  NaN   \n",
       "2          1             0                 0         NaN  NaN   \n",
       "3          0             0                 0         NaN  NaN   \n",
       "4          0             0                 0         NaN  NaN   \n",
       "\n",
       "  fielders_involved       BattingTeam     BowlingTeam isbatterout  \\\n",
       "0               NaN  Rajasthan Royals  Gujarat Titans       False   \n",
       "1               NaN  Rajasthan Royals  Gujarat Titans       False   \n",
       "2               NaN  Rajasthan Royals  Gujarat Titans       False   \n",
       "3               NaN  Rajasthan Royals  Gujarat Titans       False   \n",
       "4               NaN  Rajasthan Royals  Gujarat Titans       False   \n",
       "\n",
       "              partnership  \n",
       "0  JC Buttler-YBK Jaiswal  \n",
       "1  JC Buttler-YBK Jaiswal  \n",
       "2  JC Buttler-YBK Jaiswal  \n",
       "3  JC Buttler-YBK Jaiswal  \n",
       "4  JC Buttler-YBK Jaiswal  \n",
       "\n",
       "[5 rows x 21 columns]"
      ]
     },
     "execution_count": 72,
     "metadata": {},
     "output_type": "execute_result"
    }
   ],
   "source": [
    "def pair(x):\n",
    "    return '-'.join(list(np.sort(x.values)))\n",
    "ipl_balls['partnership'] = ipl_balls[['batter','non-striker']].apply(pair,axis = 1)\n",
    "ipl_balls.head(5)"
   ]
  },
  {
   "cell_type": "code",
   "execution_count": 75,
   "metadata": {},
   "outputs": [
    {
     "data": {
      "text/plain": [
       "partnership\n",
       "AB de Villiers-V Kohli    3134\n",
       "CH Gayle-V Kohli          2802\n",
       "DA Warner-S Dhawan        2357\n",
       "Name: total_run, dtype: int64"
      ]
     },
     "execution_count": 75,
     "metadata": {},
     "output_type": "execute_result"
    }
   ],
   "source": [
    "ipl_balls.groupby('partnership')['total_run'].sum().sort_values(ascending = False).head(3)"
   ]
  },
  {
   "cell_type": "markdown",
   "metadata": {
    "id": "gVJ2CnAxO-b0"
   },
   "source": [
    "###`Q-8:` Make a dataframe for all batting pairs played together.\n",
    "```\n",
    "Batsman1 Batsman2 Runs Avg StrikeRate\n",
    "```\n",
    "\n",
    "> Just to ease this question you can count wide-balls for strike rate."
   ]
  },
  {
   "cell_type": "code",
   "execution_count": 78,
   "metadata": {
    "id": "S0bgMx_dPA9Y"
   },
   "outputs": [],
   "source": [
    "partnerships = ipl_balls.groupby('partnership').agg({'total_run':'sum',\n",
    "                                    'isWicketDelivery':'sum',\n",
    "                                    'ID':'count'}).reset_index()\n"
   ]
  },
  {
   "cell_type": "code",
   "execution_count": 82,
   "metadata": {},
   "outputs": [],
   "source": [
    "partnerships['Avg'] = np.round(partnerships['total_run']/partnerships['isWicketDelivery'],2)\n",
    "partnerships['StrikeRate'] = np.round(100*partnerships['total_run']/partnerships['ID'],2)\n",
    "partnerships.sort_values(['total_run','StrikeRate'],ascending = [False,False],inplace=True)"
   ]
  },
  {
   "cell_type": "code",
   "execution_count": 83,
   "metadata": {},
   "outputs": [
    {
     "data": {
      "text/html": [
       "<div>\n",
       "<style scoped>\n",
       "    .dataframe tbody tr th:only-of-type {\n",
       "        vertical-align: middle;\n",
       "    }\n",
       "\n",
       "    .dataframe tbody tr th {\n",
       "        vertical-align: top;\n",
       "    }\n",
       "\n",
       "    .dataframe thead th {\n",
       "        text-align: right;\n",
       "    }\n",
       "</style>\n",
       "<table border=\"1\" class=\"dataframe\">\n",
       "  <thead>\n",
       "    <tr style=\"text-align: right;\">\n",
       "      <th></th>\n",
       "      <th>partnership</th>\n",
       "      <th>total_run</th>\n",
       "      <th>isWicketDelivery</th>\n",
       "      <th>ID</th>\n",
       "      <th>Avg</th>\n",
       "      <th>StrikeRate</th>\n",
       "    </tr>\n",
       "  </thead>\n",
       "  <tbody>\n",
       "    <tr>\n",
       "      <th>302</th>\n",
       "      <td>AB de Villiers-V Kohli</td>\n",
       "      <td>3134</td>\n",
       "      <td>71</td>\n",
       "      <td>2059</td>\n",
       "      <td>44.14</td>\n",
       "      <td>152.21</td>\n",
       "    </tr>\n",
       "    <tr>\n",
       "      <th>1251</th>\n",
       "      <td>CH Gayle-V Kohli</td>\n",
       "      <td>2802</td>\n",
       "      <td>53</td>\n",
       "      <td>1973</td>\n",
       "      <td>52.87</td>\n",
       "      <td>142.02</td>\n",
       "    </tr>\n",
       "    <tr>\n",
       "      <th>1508</th>\n",
       "      <td>DA Warner-S Dhawan</td>\n",
       "      <td>2357</td>\n",
       "      <td>49</td>\n",
       "      <td>1725</td>\n",
       "      <td>48.10</td>\n",
       "      <td>136.64</td>\n",
       "    </tr>\n",
       "    <tr>\n",
       "      <th>1954</th>\n",
       "      <td>G Gambhir-RV Uthappa</td>\n",
       "      <td>1906</td>\n",
       "      <td>48</td>\n",
       "      <td>1425</td>\n",
       "      <td>39.71</td>\n",
       "      <td>133.75</td>\n",
       "    </tr>\n",
       "    <tr>\n",
       "      <th>2803</th>\n",
       "      <td>KL Rahul-MA Agarwal</td>\n",
       "      <td>1731</td>\n",
       "      <td>33</td>\n",
       "      <td>1211</td>\n",
       "      <td>52.45</td>\n",
       "      <td>142.94</td>\n",
       "    </tr>\n",
       "    <tr>\n",
       "      <th>...</th>\n",
       "      <td>...</td>\n",
       "      <td>...</td>\n",
       "      <td>...</td>\n",
       "      <td>...</td>\n",
       "      <td>...</td>\n",
       "      <td>...</td>\n",
       "    </tr>\n",
       "    <tr>\n",
       "      <th>4202</th>\n",
       "      <td>Shivam Mavi-TK Curran</td>\n",
       "      <td>0</td>\n",
       "      <td>1</td>\n",
       "      <td>1</td>\n",
       "      <td>0.00</td>\n",
       "      <td>0.00</td>\n",
       "    </tr>\n",
       "    <tr>\n",
       "      <th>4203</th>\n",
       "      <td>Shoaib Ahmed-TL Suman</td>\n",
       "      <td>0</td>\n",
       "      <td>1</td>\n",
       "      <td>1</td>\n",
       "      <td>0.00</td>\n",
       "      <td>0.00</td>\n",
       "    </tr>\n",
       "    <tr>\n",
       "      <th>4204</th>\n",
       "      <td>Shoaib Ahmed-WPUJC Vaas</td>\n",
       "      <td>0</td>\n",
       "      <td>1</td>\n",
       "      <td>1</td>\n",
       "      <td>0.00</td>\n",
       "      <td>0.00</td>\n",
       "    </tr>\n",
       "    <tr>\n",
       "      <th>4205</th>\n",
       "      <td>Shoaib Ahmed-Y Venugopal Rao</td>\n",
       "      <td>0</td>\n",
       "      <td>1</td>\n",
       "      <td>3</td>\n",
       "      <td>0.00</td>\n",
       "      <td>0.00</td>\n",
       "    </tr>\n",
       "    <tr>\n",
       "      <th>4215</th>\n",
       "      <td>T Stubbs-Tilak Varma</td>\n",
       "      <td>0</td>\n",
       "      <td>1</td>\n",
       "      <td>2</td>\n",
       "      <td>0.00</td>\n",
       "      <td>0.00</td>\n",
       "    </tr>\n",
       "  </tbody>\n",
       "</table>\n",
       "<p>4259 rows × 6 columns</p>\n",
       "</div>"
      ],
      "text/plain": [
       "                       partnership  total_run  isWicketDelivery    ID    Avg  \\\n",
       "302         AB de Villiers-V Kohli       3134                71  2059  44.14   \n",
       "1251              CH Gayle-V Kohli       2802                53  1973  52.87   \n",
       "1508            DA Warner-S Dhawan       2357                49  1725  48.10   \n",
       "1954          G Gambhir-RV Uthappa       1906                48  1425  39.71   \n",
       "2803           KL Rahul-MA Agarwal       1731                33  1211  52.45   \n",
       "...                            ...        ...               ...   ...    ...   \n",
       "4202         Shivam Mavi-TK Curran          0                 1     1   0.00   \n",
       "4203         Shoaib Ahmed-TL Suman          0                 1     1   0.00   \n",
       "4204       Shoaib Ahmed-WPUJC Vaas          0                 1     1   0.00   \n",
       "4205  Shoaib Ahmed-Y Venugopal Rao          0                 1     3   0.00   \n",
       "4215          T Stubbs-Tilak Varma          0                 1     2   0.00   \n",
       "\n",
       "      StrikeRate  \n",
       "302       152.21  \n",
       "1251      142.02  \n",
       "1508      136.64  \n",
       "1954      133.75  \n",
       "2803      142.94  \n",
       "...          ...  \n",
       "4202        0.00  \n",
       "4203        0.00  \n",
       "4204        0.00  \n",
       "4205        0.00  \n",
       "4215        0.00  \n",
       "\n",
       "[4259 rows x 6 columns]"
      ]
     },
     "execution_count": 83,
     "metadata": {},
     "output_type": "execute_result"
    }
   ],
   "source": [
    "partnerships"
   ]
  },
  {
   "cell_type": "code",
   "execution_count": null,
   "metadata": {},
   "outputs": [],
   "source": []
  }
 ],
 "metadata": {
  "colab": {
   "provenance": []
  },
  "kernelspec": {
   "display_name": "Python 3 (ipykernel)",
   "language": "python",
   "name": "python3"
  },
  "language_info": {
   "codemirror_mode": {
    "name": "ipython",
    "version": 3
   },
   "file_extension": ".py",
   "mimetype": "text/x-python",
   "name": "python",
   "nbconvert_exporter": "python",
   "pygments_lexer": "ipython3",
   "version": "3.11.4"
  }
 },
 "nbformat": 4,
 "nbformat_minor": 1
}
